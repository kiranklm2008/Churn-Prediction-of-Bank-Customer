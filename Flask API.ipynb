{
 "cells": [
  {
   "cell_type": "code",
   "execution_count": 1,
   "metadata": {},
   "outputs": [
    {
     "name": "stdout",
     "output_type": "stream",
     "text": [
      " * Serving Flask app \"__main__\" (lazy loading)\n",
      " * Environment: production\n",
      "   WARNING: This is a development server. Do not use it in a production deployment.\n",
      "   Use a production WSGI server instead.\n",
      " * Debug mode: off\n"
     ]
    },
    {
     "name": "stderr",
     "output_type": "stream",
     "text": [
      " * Running on http://127.0.0.1:5000/ (Press CTRL+C to quit)\n",
      "127.0.0.1 - - [20/Jul/2020 17:43:21] \"\u001b[32mGET //predict_file HTTP/1.1\u001b[0m\" 308 -\n",
      "127.0.0.1 - - [20/Jul/2020 17:43:21] \"\u001b[37mGET / HTTP/1.1\u001b[0m\" 200 -\n",
      "127.0.0.1 - - [20/Jul/2020 17:43:22] \"\u001b[33mGET /favicon.ico HTTP/1.1\u001b[0m\" 404 -\n",
      "127.0.0.1 - - [20/Jul/2020 17:43:36] \"\u001b[1m\u001b[31mGET /predict_file HTTP/1.1\u001b[0m\" 405 -\n",
      "127.0.0.1 - - [20/Jul/2020 17:45:01] \"\u001b[1m\u001b[31mGET /predict_file HTTP/1.1\u001b[0m\" 405 -\n",
      "127.0.0.1 - - [20/Jul/2020 17:45:02] \"\u001b[1m\u001b[31mGET /predict_file HTTP/1.1\u001b[0m\" 405 -\n",
      "127.0.0.1 - - [20/Jul/2020 17:45:03] \"\u001b[1m\u001b[31mGET /predict_file HTTP/1.1\u001b[0m\" 405 -\n",
      "127.0.0.1 - - [20/Jul/2020 17:45:03] \"\u001b[1m\u001b[31mGET /predict_file HTTP/1.1\u001b[0m\" 405 -\n",
      "127.0.0.1 - - [20/Jul/2020 17:45:03] \"\u001b[1m\u001b[31mGET /predict_file HTTP/1.1\u001b[0m\" 405 -\n",
      "127.0.0.1 - - [20/Jul/2020 17:45:04] \"\u001b[1m\u001b[31mGET /predict_file HTTP/1.1\u001b[0m\" 405 -\n",
      "127.0.0.1 - - [20/Jul/2020 17:45:04] \"\u001b[1m\u001b[31mGET /predict_file HTTP/1.1\u001b[0m\" 405 -\n",
      "127.0.0.1 - - [20/Jul/2020 17:45:05] \"\u001b[1m\u001b[31mGET /predict_file HTTP/1.1\u001b[0m\" 405 -\n",
      "127.0.0.1 - - [20/Jul/2020 17:45:06] \"\u001b[1m\u001b[31mGET /predict_file HTTP/1.1\u001b[0m\" 405 -\n",
      "127.0.0.1 - - [20/Jul/2020 17:45:07] \"\u001b[1m\u001b[31mGET /predict_file HTTP/1.1\u001b[0m\" 405 -\n",
      "127.0.0.1 - - [20/Jul/2020 17:50:59] \"\u001b[1m\u001b[31mGET /predict_file HTTP/1.1\u001b[0m\" 405 -\n",
      "127.0.0.1 - - [20/Jul/2020 17:51:00] \"\u001b[1m\u001b[31mGET /predict_file HTTP/1.1\u001b[0m\" 405 -\n",
      "127.0.0.1 - - [20/Jul/2020 17:51:01] \"\u001b[1m\u001b[31mGET /predict_file HTTP/1.1\u001b[0m\" 405 -\n",
      "127.0.0.1 - - [20/Jul/2020 17:51:02] \"\u001b[1m\u001b[31mGET /predict_file HTTP/1.1\u001b[0m\" 405 -\n",
      "127.0.0.1 - - [20/Jul/2020 17:51:02] \"\u001b[1m\u001b[31mGET /predict_file HTTP/1.1\u001b[0m\" 405 -\n",
      "127.0.0.1 - - [20/Jul/2020 17:51:02] \"\u001b[1m\u001b[31mGET /predict_file HTTP/1.1\u001b[0m\" 405 -\n"
     ]
    }
   ],
   "source": [
    "from flask import Flask, request\n",
    "import pickle\n",
    "import numpy as np\n",
    "import pandas as pd\n",
    "\n",
    "app = Flask(__name__)\n",
    "model = pickle.load(open('Churn_Model_RF_New.pkl', 'rb'))\n",
    "\n",
    "\n",
    "@app.route('/')\n",
    "def man():\n",
    "    return \"Welcome All\"\n",
    "\n",
    "@app.route('/predict', methods=[\"GET\"])    \n",
    "def churn_predictor():\n",
    "    CreditScore = request.args.get('CreditScore')\n",
    "    Gender = request.args.get ('Gender')\n",
    "    Age = request.args.get ('Age')\n",
    "    Tenure = request.args.get ('Tenure')\n",
    "    Balance = request.args.get ('Balance')\n",
    "    NumOfProducts = request.args.get ('NumOfProducts')\n",
    "    HasCrCard = request.args.get ('HasCrCard')\n",
    "    IsActiveMember = request.args.get('IsActiveMember')\n",
    "    EstimatedSalary= request.args.get('EstimatedSalary')\n",
    "    \n",
    "    \n",
    "    prediction=model.predict([[CreditScore,Gender,Age,Tenure,Balance,NumOfProducts,HasCrCard,IsActiveMember,EstimatedSalary]])\n",
    "  \n",
    "    \n",
    "    return \"The predicted outcome is\" + str(prediction)\n",
    "\n",
    "@app.route('/predict_file', methods=[\"POST\"])\n",
    "\n",
    "def churn_predictor_file():\n",
    "    df_test = pd.read_csv(request.files.get(\"file\"))\n",
    "    prediction=model.predict(df_test)\n",
    "    return str(prediction)\n",
    "\n",
    "\n",
    "if __name__ == \"__main__\":\n",
    "    app.run()"
   ]
  },
  {
   "cell_type": "code",
   "execution_count": null,
   "metadata": {},
   "outputs": [],
   "source": [
    "@app.route('/predict_file', methods=[\"POST\"])\n",
    "\n",
    "def churn_predictor_file():\n",
    "    df_test = pd.read_csv(request.files.get(\"file\"))\n",
    "    prediction=model.predict(df_test)\n",
    "    return str(prediction)"
   ]
  },
  {
   "cell_type": "code",
   "execution_count": null,
   "metadata": {},
   "outputs": [],
   "source": [
    "@app.route('/predict_file', methods=[\"POST\"])\n",
    "\n",
    "def churn_predictor_file():\n",
    "    \"\"\"Predict the customers who will churn \n",
    "    This is using docstrings for specifications.\n",
    "    ---\n",
    "    parameters:\n",
    "      - name: file\n",
    "        in: formData\n",
    "        type: file\n",
    "        required: true\n",
    "      \n",
    "    responses:\n",
    "        200:\n",
    "            description: The output values\n",
    "    \"\"\"\n",
    "    \n",
    "    df_test = pd.read_csv(request.files.get(\"file\"))\n",
    "    prediction=model.predict(df_test)\n",
    "    return str(prediction)"
   ]
  }
 ],
 "metadata": {
  "kernelspec": {
   "display_name": "Python 3",
   "language": "python",
   "name": "python3"
  },
  "language_info": {
   "codemirror_mode": {
    "name": "ipython",
    "version": 3
   },
   "file_extension": ".py",
   "mimetype": "text/x-python",
   "name": "python",
   "nbconvert_exporter": "python",
   "pygments_lexer": "ipython3",
   "version": "3.6.9"
  }
 },
 "nbformat": 4,
 "nbformat_minor": 2
}
